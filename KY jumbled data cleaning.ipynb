{
 "cells": [
  {
   "cell_type": "code",
   "execution_count": 1,
   "id": "f2e03094",
   "metadata": {},
   "outputs": [],
   "source": [
    "import pandas as pd\n",
    "import numpy as np\n",
    "import seaborn as sns\n",
    "import matplotlib.pyplot as plt\n",
    "%matplotlib inline"
   ]
  },
  {
   "cell_type": "code",
   "execution_count": 2,
   "id": "e25b4b50",
   "metadata": {},
   "outputs": [],
   "source": [
    "df=pd.read_excel('5.-Jumbled-up-Customers-Details.xlsx')"
   ]
  },
  {
   "cell_type": "code",
   "execution_count": 3,
   "id": "d531387e",
   "metadata": {},
   "outputs": [
    {
     "data": {
      "text/html": [
       "<div>\n",
       "<style scoped>\n",
       "    .dataframe tbody tr th:only-of-type {\n",
       "        vertical-align: middle;\n",
       "    }\n",
       "\n",
       "    .dataframe tbody tr th {\n",
       "        vertical-align: top;\n",
       "    }\n",
       "\n",
       "    .dataframe thead th {\n",
       "        text-align: right;\n",
       "    }\n",
       "</style>\n",
       "<table border=\"1\" class=\"dataframe\">\n",
       "  <thead>\n",
       "    <tr style=\"text-align: right;\">\n",
       "      <th></th>\n",
       "      <th>Name Hussein Hakeem Address Number 22 Fioye Crescent Surulere Lagos Age 17 Gender Male</th>\n",
       "    </tr>\n",
       "  </thead>\n",
       "  <tbody>\n",
       "    <tr>\n",
       "      <th>0</th>\n",
       "      <td>Name Arojoye Samuel Address 11 Omolade Close O...</td>\n",
       "    </tr>\n",
       "    <tr>\n",
       "      <th>1</th>\n",
       "      <td>Name Alex Ezurum Address 1 Adamu Lane, Abuja A...</td>\n",
       "    </tr>\n",
       "    <tr>\n",
       "      <th>2</th>\n",
       "      <td>Name Susan Nwaimo Address Number 58 Yaba Stree...</td>\n",
       "    </tr>\n",
       "    <tr>\n",
       "      <th>3</th>\n",
       "      <td>Name Ajao Opeyemi Address No12 Olubunmi Street...</td>\n",
       "    </tr>\n",
       "    <tr>\n",
       "      <th>4</th>\n",
       "      <td>Name Banjoko Adebusola Address 34 Ngige Street...</td>\n",
       "    </tr>\n",
       "    <tr>\n",
       "      <th>5</th>\n",
       "      <td>Name Muhammed Olabisi Address 13, ICAN road, E...</td>\n",
       "    </tr>\n",
       "    <tr>\n",
       "      <th>6</th>\n",
       "      <td>Name Oluwagbemi Mojisola Address ACCA Lane, On...</td>\n",
       "    </tr>\n",
       "  </tbody>\n",
       "</table>\n",
       "</div>"
      ],
      "text/plain": [
       "  Name Hussein Hakeem Address Number 22 Fioye Crescent Surulere Lagos Age 17 Gender Male\n",
       "0  Name Arojoye Samuel Address 11 Omolade Close O...                                    \n",
       "1  Name Alex Ezurum Address 1 Adamu Lane, Abuja A...                                    \n",
       "2  Name Susan Nwaimo Address Number 58 Yaba Stree...                                    \n",
       "3  Name Ajao Opeyemi Address No12 Olubunmi Street...                                    \n",
       "4  Name Banjoko Adebusola Address 34 Ngige Street...                                    \n",
       "5  Name Muhammed Olabisi Address 13, ICAN road, E...                                    \n",
       "6  Name Oluwagbemi Mojisola Address ACCA Lane, On...                                    "
      ]
     },
     "execution_count": 3,
     "metadata": {},
     "output_type": "execute_result"
    }
   ],
   "source": [
    "df.head(7)"
   ]
  },
  {
   "cell_type": "code",
   "execution_count": 4,
   "id": "7aa92f6b",
   "metadata": {},
   "outputs": [
    {
     "name": "stdout",
     "output_type": "stream",
     "text": [
      "<class 'pandas.core.frame.DataFrame'>\n",
      "RangeIndex: 7 entries, 0 to 6\n",
      "Data columns (total 1 columns):\n",
      " #   Column                                                                                  Non-Null Count  Dtype \n",
      "---  ------                                                                                  --------------  ----- \n",
      " 0   Name Hussein Hakeem Address Number 22 Fioye Crescent Surulere Lagos Age 17 Gender Male  7 non-null      object\n",
      "dtypes: object(1)\n",
      "memory usage: 188.0+ bytes\n"
     ]
    }
   ],
   "source": [
    "df.info()"
   ]
  },
  {
   "cell_type": "code",
   "execution_count": 5,
   "id": "80b27735",
   "metadata": {},
   "outputs": [],
   "source": [
    "df['Name']=df['Name Hussein Hakeem Address Number 22 Fioye Crescent Surulere Lagos Age 17 Gender Male'].apply(lambda title: title.split('Address')[0][4:])"
   ]
  },
  {
   "cell_type": "code",
   "execution_count": 6,
   "id": "fafc194c",
   "metadata": {},
   "outputs": [],
   "source": [
    "df['Gender']=df['Name Hussein Hakeem Address Number 22 Fioye Crescent Surulere Lagos Age 17 Gender Male'].apply(lambda title: title.split('Age')[1][10:])"
   ]
  },
  {
   "cell_type": "code",
   "execution_count": 7,
   "id": "4d4f80ed",
   "metadata": {},
   "outputs": [],
   "source": [
    "df['Age']=df['Name Hussein Hakeem Address Number 22 Fioye Crescent Surulere Lagos Age 17 Gender Male'].apply(lambda title: title.split('Age')[1][0:3])"
   ]
  },
  {
   "cell_type": "code",
   "execution_count": 8,
   "id": "9021df13",
   "metadata": {},
   "outputs": [],
   "source": [
    "df['cat']=df['Name Hussein Hakeem Address Number 22 Fioye Crescent Surulere Lagos Age 17 Gender Male'].apply(lambda title: title.split('Address')[1][0:])"
   ]
  },
  {
   "cell_type": "code",
   "execution_count": 9,
   "id": "22d49d9a",
   "metadata": {},
   "outputs": [],
   "source": [
    "df['Address']=df['cat'].apply(lambda title: title.split('Age')[0][0:])"
   ]
  },
  {
   "cell_type": "code",
   "execution_count": 10,
   "id": "de86dc40",
   "metadata": {},
   "outputs": [],
   "source": [
    "df.drop('Name Hussein Hakeem Address Number 22 Fioye Crescent Surulere Lagos Age 17 Gender Male',axis=1,inplace=True)"
   ]
  },
  {
   "cell_type": "code",
   "execution_count": 11,
   "id": "921f9c0b",
   "metadata": {},
   "outputs": [],
   "source": [
    "df['Address']=df['Address'].str.replace('No','').str.replace('Number','')"
   ]
  },
  {
   "cell_type": "code",
   "execution_count": 12,
   "id": "2da0357a",
   "metadata": {},
   "outputs": [],
   "source": [
    "df.drop('cat',axis=1,inplace=True)"
   ]
  },
  {
   "cell_type": "code",
   "execution_count": 13,
   "id": "edce84c1",
   "metadata": {},
   "outputs": [
    {
     "data": {
      "text/html": [
       "<div>\n",
       "<style scoped>\n",
       "    .dataframe tbody tr th:only-of-type {\n",
       "        vertical-align: middle;\n",
       "    }\n",
       "\n",
       "    .dataframe tbody tr th {\n",
       "        vertical-align: top;\n",
       "    }\n",
       "\n",
       "    .dataframe thead th {\n",
       "        text-align: right;\n",
       "    }\n",
       "</style>\n",
       "<table border=\"1\" class=\"dataframe\">\n",
       "  <thead>\n",
       "    <tr style=\"text-align: right;\">\n",
       "      <th></th>\n",
       "      <th>Name</th>\n",
       "      <th>Gender</th>\n",
       "      <th>Age</th>\n",
       "      <th>Address</th>\n",
       "    </tr>\n",
       "  </thead>\n",
       "  <tbody>\n",
       "    <tr>\n",
       "      <th>0</th>\n",
       "      <td>Arojoye Samuel</td>\n",
       "      <td>Male</td>\n",
       "      <td>16</td>\n",
       "      <td>11 Omolade Close Omole Estate Lagos</td>\n",
       "    </tr>\n",
       "    <tr>\n",
       "      <th>1</th>\n",
       "      <td>Alex Ezurum</td>\n",
       "      <td>Male</td>\n",
       "      <td>14</td>\n",
       "      <td>1 Adamu Lane, Abuja</td>\n",
       "    </tr>\n",
       "    <tr>\n",
       "      <th>2</th>\n",
       "      <td>Susan Nwaimo</td>\n",
       "      <td>Female</td>\n",
       "      <td>16</td>\n",
       "      <td>58 Yaba Street, Kaduna State</td>\n",
       "    </tr>\n",
       "    <tr>\n",
       "      <th>3</th>\n",
       "      <td>Ajao Opeyemi</td>\n",
       "      <td>Female</td>\n",
       "      <td>18</td>\n",
       "      <td>12 Olubunmi Street, Abeokuta</td>\n",
       "    </tr>\n",
       "    <tr>\n",
       "      <th>4</th>\n",
       "      <td>Banjoko Adebusola</td>\n",
       "      <td>Female</td>\n",
       "      <td>14</td>\n",
       "      <td>34 Ngige Street, Ugheli, Delta</td>\n",
       "    </tr>\n",
       "    <tr>\n",
       "      <th>5</th>\n",
       "      <td>Muhammed Olabisi</td>\n",
       "      <td>Female</td>\n",
       "      <td>12</td>\n",
       "      <td>13, ICAN road, Enugu</td>\n",
       "    </tr>\n",
       "    <tr>\n",
       "      <th>6</th>\n",
       "      <td>Oluwagbemi Mojisola</td>\n",
       "      <td>Female</td>\n",
       "      <td>13</td>\n",
       "      <td>ACCA Lane, Onitsha</td>\n",
       "    </tr>\n",
       "  </tbody>\n",
       "</table>\n",
       "</div>"
      ],
      "text/plain": [
       "                    Name   Gender  Age                                Address\n",
       "0        Arojoye Samuel      Male   16   11 Omolade Close Omole Estate Lagos \n",
       "1           Alex Ezurum      Male   14                   1 Adamu Lane, Abuja \n",
       "2          Susan Nwaimo    Female   16         58 Yaba Street, Kaduna State  \n",
       "3          Ajao Opeyemi    Female   18          12 Olubunmi Street, Abeokuta \n",
       "4     Banjoko Adebusola    Female   14        34 Ngige Street, Ugheli, Delta \n",
       "5      Muhammed Olabisi    Female   12                  13, ICAN road, Enugu \n",
       "6   Oluwagbemi Mojisola    Female   13                    ACCA Lane, Onitsha "
      ]
     },
     "execution_count": 13,
     "metadata": {},
     "output_type": "execute_result"
    }
   ],
   "source": [
    "df"
   ]
  },
  {
   "cell_type": "code",
   "execution_count": 14,
   "id": "84b5a931",
   "metadata": {},
   "outputs": [
    {
     "data": {
      "text/html": [
       "<div>\n",
       "<style scoped>\n",
       "    .dataframe tbody tr th:only-of-type {\n",
       "        vertical-align: middle;\n",
       "    }\n",
       "\n",
       "    .dataframe tbody tr th {\n",
       "        vertical-align: top;\n",
       "    }\n",
       "\n",
       "    .dataframe thead th {\n",
       "        text-align: right;\n",
       "    }\n",
       "</style>\n",
       "<table border=\"1\" class=\"dataframe\">\n",
       "  <thead>\n",
       "    <tr style=\"text-align: right;\">\n",
       "      <th></th>\n",
       "      <th>Name</th>\n",
       "      <th>Gender</th>\n",
       "      <th>Age</th>\n",
       "      <th>Address</th>\n",
       "    </tr>\n",
       "  </thead>\n",
       "  <tbody>\n",
       "    <tr>\n",
       "      <th>0</th>\n",
       "      <td>Arojoye Samuel</td>\n",
       "      <td>Male</td>\n",
       "      <td>16</td>\n",
       "      <td>11 Omolade Close Omole Estate Lagos</td>\n",
       "    </tr>\n",
       "    <tr>\n",
       "      <th>1</th>\n",
       "      <td>Alex Ezurum</td>\n",
       "      <td>Male</td>\n",
       "      <td>14</td>\n",
       "      <td>1 Adamu Lane, Abuja</td>\n",
       "    </tr>\n",
       "    <tr>\n",
       "      <th>2</th>\n",
       "      <td>Susan Nwaimo</td>\n",
       "      <td>Female</td>\n",
       "      <td>16</td>\n",
       "      <td>58 Yaba Street, Kaduna State</td>\n",
       "    </tr>\n",
       "    <tr>\n",
       "      <th>3</th>\n",
       "      <td>Ajao Opeyemi</td>\n",
       "      <td>Female</td>\n",
       "      <td>18</td>\n",
       "      <td>12 Olubunmi Street, Abeokuta</td>\n",
       "    </tr>\n",
       "    <tr>\n",
       "      <th>4</th>\n",
       "      <td>Banjoko Adebusola</td>\n",
       "      <td>Female</td>\n",
       "      <td>14</td>\n",
       "      <td>34 Ngige Street, Ugheli, Delta</td>\n",
       "    </tr>\n",
       "    <tr>\n",
       "      <th>5</th>\n",
       "      <td>Muhammed Olabisi</td>\n",
       "      <td>Female</td>\n",
       "      <td>12</td>\n",
       "      <td>13, ICAN road, Enugu</td>\n",
       "    </tr>\n",
       "    <tr>\n",
       "      <th>6</th>\n",
       "      <td>Oluwagbemi Mojisola</td>\n",
       "      <td>Female</td>\n",
       "      <td>13</td>\n",
       "      <td>ACCA Lane, Onitsha</td>\n",
       "    </tr>\n",
       "  </tbody>\n",
       "</table>\n",
       "</div>"
      ],
      "text/plain": [
       "                    Name   Gender  Age                                Address\n",
       "0        Arojoye Samuel      Male   16   11 Omolade Close Omole Estate Lagos \n",
       "1           Alex Ezurum      Male   14                   1 Adamu Lane, Abuja \n",
       "2          Susan Nwaimo    Female   16         58 Yaba Street, Kaduna State  \n",
       "3          Ajao Opeyemi    Female   18          12 Olubunmi Street, Abeokuta \n",
       "4     Banjoko Adebusola    Female   14        34 Ngige Street, Ugheli, Delta \n",
       "5      Muhammed Olabisi    Female   12                  13, ICAN road, Enugu \n",
       "6   Oluwagbemi Mojisola    Female   13                    ACCA Lane, Onitsha "
      ]
     },
     "execution_count": 14,
     "metadata": {},
     "output_type": "execute_result"
    }
   ],
   "source": [
    "df.tail(10)"
   ]
  },
  {
   "cell_type": "code",
   "execution_count": 15,
   "id": "488c7de2",
   "metadata": {},
   "outputs": [
    {
     "name": "stdout",
     "output_type": "stream",
     "text": [
      "<class 'pandas.core.frame.DataFrame'>\n",
      "RangeIndex: 7 entries, 0 to 6\n",
      "Data columns (total 4 columns):\n",
      " #   Column   Non-Null Count  Dtype \n",
      "---  ------   --------------  ----- \n",
      " 0   Name     7 non-null      object\n",
      " 1   Gender   7 non-null      object\n",
      " 2   Age      7 non-null      object\n",
      " 3   Address  7 non-null      object\n",
      "dtypes: object(4)\n",
      "memory usage: 356.0+ bytes\n"
     ]
    }
   ],
   "source": [
    "df.info()"
   ]
  },
  {
   "cell_type": "code",
   "execution_count": 16,
   "id": "60f1dad3",
   "metadata": {},
   "outputs": [],
   "source": [
    "df['Age']=df['Age'].astype(int)"
   ]
  },
  {
   "cell_type": "code",
   "execution_count": 17,
   "id": "88af2c33",
   "metadata": {},
   "outputs": [
    {
     "name": "stdout",
     "output_type": "stream",
     "text": [
      "<class 'pandas.core.frame.DataFrame'>\n",
      "RangeIndex: 7 entries, 0 to 6\n",
      "Data columns (total 4 columns):\n",
      " #   Column   Non-Null Count  Dtype \n",
      "---  ------   --------------  ----- \n",
      " 0   Name     7 non-null      object\n",
      " 1   Gender   7 non-null      object\n",
      " 2   Age      7 non-null      int64 \n",
      " 3   Address  7 non-null      object\n",
      "dtypes: int64(1), object(3)\n",
      "memory usage: 356.0+ bytes\n"
     ]
    }
   ],
   "source": [
    "df.info()"
   ]
  },
  {
   "cell_type": "code",
   "execution_count": 18,
   "id": "b29eaaf1",
   "metadata": {},
   "outputs": [
    {
     "data": {
      "text/plain": [
       "False"
      ]
     },
     "execution_count": 18,
     "metadata": {},
     "output_type": "execute_result"
    }
   ],
   "source": [
    "df.duplicated().any()"
   ]
  },
  {
   "cell_type": "code",
   "execution_count": 19,
   "id": "7b573d4b",
   "metadata": {},
   "outputs": [
    {
     "data": {
      "text/plain": [
       "<Axes: xlabel='Gender', ylabel='count'>"
      ]
     },
     "execution_count": 19,
     "metadata": {},
     "output_type": "execute_result"
    },
    {
     "data": {
      "image/png": "[encoded data removed]",
      "text/plain": [
       "<Figure size 640x480 with 1 Axes>"
      ]
     },
     "metadata": {},
     "output_type": "display_data"
    }
   ],
   "source": [
    "sns.countplot(data=df,x='Gender',palette='viridis')"
   ]
  },
  {
   "cell_type": "code",
   "execution_count": 20,
   "id": "768ed906",
   "metadata": {},
   "outputs": [
    {
     "data": {
      "text/plain": [
       "<Axes: xlabel='Age', ylabel='count'>"
      ]
     },
     "execution_count": 20,
     "metadata": {},
     "output_type": "execute_result"
    },
    {
     "data": {
      "image/png": "[encoded data removed]",
      "text/plain": [
       "<Figure size 640x480 with 1 Axes>"
      ]
     },
     "metadata": {},
     "output_type": "display_data"
    }
   ],
   "source": [
    "sns.countplot(data=df,x='Age',palette='viridis')"
   ]
  },
  {
   "cell_type": "code",
   "execution_count": 21,
   "id": "e125fc9e",
   "metadata": {},
   "outputs": [],
   "source": [
    "df.to_excel('Jumbledclean.xlsx')"
   ]
  }
 ],
 "metadata": {
  "kernelspec": {
   "display_name": "Python 3 (ipykernel)",
   "language": "python",
   "name": "python3"
  },
  "language_info": {
   "codemirror_mode": {
    "name": "ipython",
    "version": 3
   },
   "file_extension": ".py",
   "mimetype": "text/x-python",
   "name": "python",
   "nbconvert_exporter": "python",
   "pygments_lexer": "ipython3",
   "version": "3.11.5"
  }
 },
 "nbformat": 4,
 "nbformat_minor": 5
}
